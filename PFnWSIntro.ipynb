{
 "cells": [
  {
   "cell_type": "markdown",
   "metadata": {},
   "source": [
    "--------------------WARM START VS PARTIAL FIT UNDERSTANDING--------------------"
   ]
  },
  {
   "cell_type": "markdown",
   "metadata": {},
   "source": [
    "While the warm_start = True parameter does not change the attribute parameters already learned by the model, the partial \n",
    "_fit() could change it because it learns from new data."
   ]
  },
  {
   "cell_type": "code",
   "execution_count": null,
   "metadata": {},
   "outputs": [],
   "source": [
    "from sklearn import datasets\n",
    "from sklearn.model_selection import train_test_split\n",
    "from sklearn.ensemble import RandomForestClassifier\n",
    "\n",
    "# Get datset and divide into training and testing sets\n",
    "iris = datasets.load_iris()\n",
    "X = iris.data\n",
    "y = iris.target\n",
    "\n",
    "X1, X2, y1, y2 = train_test_split(X, y, test_size=0.60, random_state=42)\n",
    "X_train, X_test, y_train, y_test = train_test_split(X1, y1, test_size=0.20, random_state=42)\n",
    "\n",
    "# Create model and fit\n",
    "model = RandomForestClassifier(max_depth=2, random_state=0, warm_start=False, n_estimators=1)\n",
    "model.fit(X_train, y_train)\n",
    "model.score(X_test, y_test)"
   ]
  },
  {
   "cell_type": "code",
   "execution_count": null,
   "metadata": {},
   "outputs": [],
   "source": [
    "model.fit(X2, y2)\n",
    "#The previous fit deletes the model already learned. \n",
    "model.score(X_test, y_test)"
   ]
  },
  {
   "cell_type": "markdown",
   "metadata": {},
   "source": [
    "--------------WARM START--------------"
   ]
  },
  {
   "cell_type": "code",
   "execution_count": null,
   "metadata": {},
   "outputs": [],
   "source": [
    "model = RandomForestClassifier(max_depth=2, random_state=0, warm_start=True, n_estimators=1)\n",
    "model.fit(X_train, y_train)\n",
    "model.score(X_test, y_test)"
   ]
  },
  {
   "cell_type": "code",
   "execution_count": null,
   "metadata": {},
   "outputs": [],
   "source": [
    "model.n_estimators+=1 # Add 1 estimator to the model\n",
    "model.fit(X2, y2)\n",
    "model.score(X_test, y_test)"
   ]
  },
  {
   "cell_type": "markdown",
   "metadata": {},
   "source": [
    "--------------PARTIAL FIT--------------"
   ]
  },
  {
   "cell_type": "code",
   "execution_count": null,
   "metadata": {},
   "outputs": [],
   "source": [
    "from sklearn.linear_model import SGDClassifier\n",
    "import numpy as np\n",
    "model = SGDClassifier() \n",
    "model.partial_fit(X_train, y_train, classes=np.unique(y)) # Use partial fit\n",
    "model.score(X_test, y_test)"
   ]
  },
  {
   "cell_type": "code",
   "execution_count": null,
   "metadata": {},
   "outputs": [],
   "source": [
    "model.partial_fit(X2, y2)\n",
    "model.score(X_test, y_test)"
   ]
  }
 ],
 "metadata": {
  "kernelspec": {
   "display_name": "Python 3.9.13 64-bit (microsoft store)",
   "language": "python",
   "name": "python3"
  },
  "language_info": {
   "name": "python",
   "version": "3.9.13"
  },
  "orig_nbformat": 4,
  "vscode": {
   "interpreter": {
    "hash": "d12aceb7c7d1d4d1694daf67d70670324795e01857da6164fa0591aebabf1ea2"
   }
  }
 },
 "nbformat": 4,
 "nbformat_minor": 2
}
