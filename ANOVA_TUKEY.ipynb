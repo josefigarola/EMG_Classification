{
 "cells": [
  {
   "cell_type": "code",
   "execution_count": null,
   "metadata": {},
   "outputs": [],
   "source": [
    "import pandas as pd\n",
    "import numpy as np\n",
    "import matplotlib.pyplot as plt\n",
    "import scipy.stats as stats\n",
    "import statsmodels.api as sm\n",
    "from statsmodels.formula.api import ols\n",
    "from bioinfokit.analys import stat\n",
    "import csv"
   ]
  },
  {
   "cell_type": "markdown",
   "metadata": {},
   "source": [
    "----------------------------------SSI ANOVA AND TUKEY HSD TESTING----------------------------------"
   ]
  },
  {
   "cell_type": "code",
   "execution_count": null,
   "metadata": {},
   "outputs": [],
   "source": [
    "files = ['LDA_SSI_results','SVML_SSI_results','SVMR_SSI_results',\n",
    "         'MLP1_SSI_results','MLP2_SSI_results','MLP3_SSI_results',\n",
    "         'NN1_SSI_results','NN2_SSI_results','NN3_SSI_results',]\n",
    "names = ['LDA','SVML','SVMR',\n",
    "         'MLP1','MLP2','MLP3',\n",
    "         'NNET1','NNET2','NNET3',]\n",
    "\n",
    "df1 = pd.read_csv('SSI\\\\LDA_SSI_results.csv')['mean'].iloc[:-1]\n",
    "df2 = pd.read_csv('SSI\\\\SVML_SSI_results.csv')['mean'].iloc[:-1]\n",
    "df3 = pd.read_csv('SSI\\\\SVMR_SSI_results.csv')['mean'].iloc[:-1]\n",
    "df4 = pd.read_csv('SSI\\\\MLP1_SSI_results.csv')['mean'].iloc[:-1]\n",
    "df5 = pd.read_csv('SSI\\\\MLP2_SSI_results.csv')['mean'].iloc[:-1]\n",
    "df6 = pd.read_csv('SSI\\\\MLP3_SSI_results.csv')['mean'].iloc[:-1]\n",
    "df7 = pd.read_csv('SSI\\\\NN1_SSI_results.csv')['mean'].iloc[:-1]\n",
    "df8 = pd.read_csv('SSI\\\\NN2_SSI_results.csv')['mean'].iloc[:-1]\n",
    "df9 = pd.read_csv('SSI\\\\NN3_SSI_results.csv')['mean'].iloc[:-1]\n",
    "\n",
    "df = pd.DataFrame({'LDA':df1,'SVML':df2,'SVMR':df3,'MLP1':df4,'MLP2':df5,'MLP3':df6,'NNET1':df7,'NNET2':df8,'NNET3':df9})\n",
    "df.to_csv('SSI_Stats.csv',index=False)"
   ]
  },
  {
   "cell_type": "code",
   "execution_count": null,
   "metadata": {},
   "outputs": [],
   "source": [
    "# Box Plot Classifiers Mean\n",
    "files = ['LDA_SSI_results','SVML_SSI_results','SVMR_SSI_results',\n",
    "         'MLP1_SSI_results','MLP2_SSI_results','MLP3_SSI_results',\n",
    "         'NN1_SSI_results','NN2_SSI_results','NN3_SSI_results',]\n",
    "names = ['LDA','SVML','SVMR',\n",
    "         'MLP1','MLP2','MLP3',\n",
    "         'NNET1','NNET2','NNET3',]\n",
    "\n",
    "values_mean = []\n",
    "\n",
    "create_table = 0\n",
    "if(create_table==1):\n",
    "    with open('SSI_Stats.csv','a',newline='') as f:\n",
    "        writer = csv.writer(f,delimiter=',')\n",
    "        writer.writerow(names)\n",
    "                \n",
    "        for i in range(len(files)):\n",
    "            df = pd.read_csv('SSI\\\\'+files[i]+'.csv')\n",
    "            values_mean.append(df['mean'].values[:-1])\n",
    "            #print(files[i])\n",
    "            #print(df['mean'].values[:-1])\n",
    "        \n",
    "        values_bp = np.array(values_mean)\n",
    "        values_bp = np.reshape(values_bp,(30,9))\n",
    "\n",
    "        \n",
    "        for i in range(len(values_bp)):\n",
    "            writer.writerow(values_bp[i,:])\n",
    "\n",
    "        plt.boxplot(np.array(values_mean).T,labels=names)\n",
    "        plt.title('SSI Classifiers Performance')\n",
    "        \n",
    "ssi_df = pd.read_csv('SSI_Stats.csv')\n",
    "# box plot data\n",
    "plt.boxplot(ssi_df.values,labels=names)\n"
   ]
  },
  {
   "cell_type": "code",
   "execution_count": null,
   "metadata": {},
   "outputs": [],
   "source": [
    "df = pd.read_csv('SSI_Stats.csv')\n",
    "# reshape the d dataframe suitable for statsmodels package \n",
    "df_melt = pd.melt(df.reset_index(), \n",
    "                  id_vars=['index'], \n",
    "                  value_vars=names)\n",
    "\n",
    "df_melt.columns = ['Index', 'Classifier', 'Mean']\n",
    "\n",
    "print(df_melt)\n",
    "\n",
    "# stats f_oneway functions takes the groups as input and returns ANOVA F and p value\n",
    "fvalue, pvalue = stats.f_oneway(df['LDA'], df['SVML'], df['SVMR'], df['MLP1'], df['MLP2'], df['MLP3'], df['NNET1'], df['NNET2'], df['NNET3'])\n",
    "print(fvalue, pvalue)\n",
    "#\n",
    "## Ordinary Least Squares (OLS) model\n",
    "model = ols(formula='Mean ~ C(Classifier)', data=df_melt).fit()\n",
    "anova_table = sm.stats.anova_lm(model, typ=2)\n",
    "anova_table\n"
   ]
  },
  {
   "cell_type": "code",
   "execution_count": null,
   "metadata": {},
   "outputs": [],
   "source": [
    "res = stat()\n",
    "res.anova_stat(df=df_melt, res_var='Mean', anova_model='Mean ~ C(Classifier)')\n",
    "res.anova_summary\n",
    "# output (ANOVA F and p value)"
   ]
  },
  {
   "cell_type": "code",
   "execution_count": null,
   "metadata": {},
   "outputs": [],
   "source": [
    "res = stat()\n",
    "res.tukey_hsd(df=df_melt, res_var='Mean', xfac_var='Classifier', anova_model='Mean ~ C(Classifier)')\n",
    "res.tukey_summary"
   ]
  },
  {
   "cell_type": "markdown",
   "metadata": {},
   "source": [
    "----------------------------------LOOP ANOVA AND TUKEY HSD TESTING----------------------------------"
   ]
  },
  {
   "cell_type": "code",
   "execution_count": null,
   "metadata": {},
   "outputs": [],
   "source": [
    "files = ['LDA_LOOP_results','SVML_LOOP_results','SVMR_LOOP_results',\n",
    "         'MLP1_LOOP_results','MLP2_LOOP_results','MLP3_LOOP_results',\n",
    "         'NN1_LOOP_results','NN2_LOOP_results','NN3_LOOP_results',]\n",
    "names = ['LDA','SVML','SVMR',\n",
    "         'MLP1','MLP2','MLP3',\n",
    "         'NNET1','NNET2','NNET3',]\n",
    "\n",
    "df1 = pd.read_csv('LOOP\\\\LDA_LOOP_results.csv')['all'].iloc[:-1]\n",
    "df2 = pd.read_csv('LOOP\\\\SVML_LOOP_results.csv')['all'].iloc[:-1]\n",
    "df3 = pd.read_csv('LOOP\\\\SVMR_LOOP_results.csv')['all'].iloc[:-1]\n",
    "df4 = pd.read_csv('LOOP\\\\MLP1_LOOP_results.csv')['all'].iloc[:-1]\n",
    "df5 = pd.read_csv('LOOP\\\\MLP2_LOOP_results.csv')['all'].iloc[:-1]\n",
    "df6 = pd.read_csv('LOOP\\\\MLP3_LOOP_results.csv')['all'].iloc[:-1]\n",
    "df7 = pd.read_csv('LOOP\\\\NN1_LOOP_results.csv')['all'].iloc[:-1]\n",
    "df8 = pd.read_csv('LOOP\\\\NN2_LOOP_results.csv')['all'].iloc[:-1]\n",
    "df9 = pd.read_csv('LOOP\\\\NN3_LOOP_results.csv')['all'].iloc[:-1]\n",
    "\n",
    "df = pd.DataFrame({'LDA':df1,'SVML':df2,'SVMR':df3,'MLP1':df4,'MLP2':df5,'MLP3':df6,'NNET1':df7,'NNET2':df8,'NNET3':df9})\n",
    "df.to_csv('LOOP_Stats.csv',index=False)"
   ]
  },
  {
   "cell_type": "code",
   "execution_count": null,
   "metadata": {},
   "outputs": [],
   "source": [
    "loop_df = pd.read_csv('LOOP_Stats.csv')\n",
    "names = ['LDA','SVML','SVMR',\n",
    "         'MLP1','MLP2','MLP3',\n",
    "         'NNET1','NNET2','NNET3',]\n",
    "# box plot data\n",
    "plt.boxplot(loop_df.values,labels=names)\n",
    "plt.title('LOOP Classifiers Testing Performance')"
   ]
  },
  {
   "cell_type": "code",
   "execution_count": null,
   "metadata": {},
   "outputs": [],
   "source": [
    "df = pd.read_csv('LOOP_Stats.csv')\n",
    "# reshape the d dataframe suitable for statsmodels package \n",
    "df_melt = pd.melt(df.reset_index(), \n",
    "                  id_vars=['index'], \n",
    "                  value_vars=names)\n",
    "\n",
    "df_melt.columns = ['Index', 'Classifier', 'Mean']\n",
    "\n",
    "print(df_melt)\n",
    "\n",
    "# stats f_oneway functions takes the groups as input and returns ANOVA F and p value\n",
    "fvalue, pvalue = stats.f_oneway(df['LDA'], df['SVML'], df['SVMR'], df['MLP1'], df['MLP2'], df['MLP3'], df['NNET1'], df['NNET2'], df['NNET3'])\n",
    "print(fvalue, pvalue)\n",
    "\n",
    "# Ordinary Least Squares (OLS) model\n",
    "model = ols('Mean ~ C(Classifier)', data=df_melt).fit()\n",
    "anova_table = sm.stats.anova_lm(model, typ=2)\n",
    "anova_table\n"
   ]
  },
  {
   "cell_type": "code",
   "execution_count": null,
   "metadata": {},
   "outputs": [],
   "source": [
    "res = stat()\n",
    "res.anova_stat(df=df_melt, res_var='Mean', anova_model='Mean ~ Classifier')\n",
    "res.anova_summary\n",
    "# output (ANOVA F and p value)"
   ]
  },
  {
   "cell_type": "code",
   "execution_count": null,
   "metadata": {},
   "outputs": [],
   "source": [
    "res = stat()\n",
    "res.tukey_hsd(df=df_melt, res_var='Mean', xfac_var='Classifier', anova_model='Mean ~ Classifier')\n",
    "res.tukey_summary"
   ]
  },
  {
   "cell_type": "code",
   "execution_count": null,
   "metadata": {},
   "outputs": [],
   "source": [
    "# res.anova_std_residuals are standardized residuals obtained from ANOVA (check above)\n",
    "sm.qqplot(res.anova_std_residuals, line='45')\n",
    "plt.xlabel(\"Theoretical Quantiles\")\n",
    "plt.ylabel(\"Standardized Residuals\")\n",
    "plt.show()\n",
    "\n",
    "# histogram\n",
    "plt.hist(res.anova_model_out.resid, bins='auto', histtype='bar', ec='k') \n",
    "plt.xlabel(\"Residuals\")\n",
    "plt.ylabel('Frequency')\n",
    "plt.show()"
   ]
  }
 ],
 "metadata": {
  "language_info": {
   "name": "python"
  },
  "orig_nbformat": 4
 },
 "nbformat": 4,
 "nbformat_minor": 2
}
